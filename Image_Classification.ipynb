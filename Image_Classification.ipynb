{
  "nbformat": 4,
  "nbformat_minor": 0,
  "metadata": {
    "colab": {
      "name": "Image Classification.ipynb",
      "provenance": [],
      "collapsed_sections": [],
      "authorship_tag": "ABX9TyM4mnIubXtyRj/eOqQT/YM8",
      "include_colab_link": true
    },
    "kernelspec": {
      "display_name": "Python 3",
      "name": "python3"
    },
    "language_info": {
      "name": "python"
    }
  },
  "cells": [
    {
      "cell_type": "markdown",
      "metadata": {
        "id": "view-in-github",
        "colab_type": "text"
      },
      "source": [
        "<a href=\"https://colab.research.google.com/github/Rohithp1603/Mini-Project/blob/main/Image_Classification.ipynb\" target=\"_parent\"><img src=\"https://colab.research.google.com/assets/colab-badge.svg\" alt=\"Open In Colab\"/></a>"
      ]
    },
    {
      "cell_type": "code",
      "metadata": {
        "colab": {
          "base_uri": "https://localhost:8080/"
        },
        "id": "uh9_7-5QnmNW",
        "outputId": "b1f475ea-514d-4022-aec5-3978609b8df3"
      },
      "source": [
        "!pip install bing-image-downloader"
      ],
      "execution_count": null,
      "outputs": [
        {
          "output_type": "stream",
          "text": [
            "Requirement already satisfied: bing-image-downloader in /usr/local/lib/python3.7/dist-packages (1.0.4)\n"
          ],
          "name": "stdout"
        }
      ]
    },
    {
      "cell_type": "code",
      "metadata": {
        "colab": {
          "base_uri": "https://localhost:8080/"
        },
        "id": "JH8wUsKWsZs9",
        "outputId": "18021cf7-15c9-40a7-99f6-41ae2213c63e"
      },
      "source": [
        "!mkdir images"
      ],
      "execution_count": null,
      "outputs": [
        {
          "output_type": "stream",
          "text": [
            "mkdir: cannot create directory ‘images’: File exists\n"
          ],
          "name": "stdout"
        }
      ]
    },
    {
      "cell_type": "code",
      "metadata": {
        "colab": {
          "base_uri": "https://localhost:8080/"
        },
        "id": "uUAiRu-gsog8",
        "outputId": "a19082fc-78a5-4c1c-c55a-fb341a8becc2"
      },
      "source": [
        "from bing_image_downloader import downloader\n",
        "downloader.download(\"Fish\",limit=30,output_dir='images',adult_filter_off=True)"
      ],
      "execution_count": null,
      "outputs": [
        {
          "output_type": "stream",
          "text": [
            "\n",
            "\n",
            "[!!]Indexing page: 1\n",
            "\n",
            "[%] Indexed 10 Images on Page 1.\n",
            "\n",
            "===============================================\n",
            "\n",
            "[%] Downloading Image #1 from https://wallpapershome.com/images/wallpapers/fish-3840x2160-5k-4k-wallpaper-8k-diving-tourism-cocos-island-costa-608.jpg\n",
            "[%] File Downloaded !\n",
            "\n",
            "[%] Downloading Image #2 from https://cdn.architecturendesign.net/wp-content/uploads/2014/09/10-fish-tank-above-bed-like-headboard.jpg\n",
            "[%] File Downloaded !\n",
            "\n",
            "[%] Downloading Image #3 from https://www.wallpapers13.com/wp-content/uploads/2016/02/Symphysodon-Discus-Tropical-Fish-for-wallpaper-Hd-mobile-phone-LapTop.jpg\n",
            "[%] File Downloaded !\n",
            "\n",
            "[%] Downloading Image #4 from http://messagenote.com/wp-content/uploads/2015/11/Loooove-this-fish-scale-finish..jpg\n",
            "[%] File Downloaded !\n",
            "\n",
            "[%] Downloading Image #5 from https://i.pinimg.com/736x/a3/03/6b/a3036ba79333ac263b36027171359887--peace-lily-rearrange.jpg\n",
            "[%] File Downloaded !\n",
            "\n",
            "[%] Downloading Image #6 from https://wallpapershome.com/images/wallpapers/finding-dory-7680x4320-hank-nemo-fish-octopus-animation-10813.jpg\n",
            "[%] File Downloaded !\n",
            "\n",
            "[%] Downloading Image #7 from https://dlgdxii3fgupk.cloudfront.net/myaquariumclub.com/images/fbfiles/images/image-9193c28dabd5631256a4369ed599c326_v_1440030607.jpg\n",
            "[%] File Downloaded !\n",
            "\n",
            "[%] Downloading Image #8 from https://www.hdwallpapers.in/download/banana_fish_ash_lynx_4k_hd_banana_fish_anime-1600x900.jpg\n",
            "[%] File Downloaded !\n",
            "\n",
            "[%] Downloading Image #9 from https://dlgdxii3fgupk.cloudfront.net/myaquariumclub.com/images/fbfiles/images/DSCF2822_v_1401703503.JPG\n",
            "[%] File Downloaded !\n",
            "\n",
            "[%] Downloading Image #10 from https://image.zmenu.com/menupic/4399713/s_4a0009f6-bda5-4d75-b645-39d9c2034b64.jpg\n",
            "[%] File Downloaded !\n",
            "\n",
            "\n",
            "\n",
            "[!!]Indexing page: 2\n",
            "\n",
            "[%] Indexed 10 Images on Page 2.\n",
            "\n",
            "===============================================\n",
            "\n",
            "[%] Downloading Image #11 from http://petsfoto.com/wp-content/uploads/2010/04/Mandarinfish1.jpg\n",
            "[!] Issue getting: http://petsfoto.com/wp-content/uploads/2010/04/Mandarinfish1.jpg\n",
            "[!] Error:: <urlopen error [SSL: SSLV3_ALERT_HANDSHAKE_FAILURE] sslv3 alert handshake failure (_ssl.c:1091)>\n",
            "[%] Downloading Image #11 from http://4.bp.blogspot.com/-qamBY31QVwQ/ThtcXzeRXzI/AAAAAAAAAB0/E4uYk2bYbsM/s1600/Betta-Fish-Pic.jpg\n",
            "[%] File Downloaded !\n",
            "\n",
            "[%] Downloading Image #12 from http://delargy.com/images/2006_11_Keys/squirrel_fish.JPG\n",
            "[%] File Downloaded !\n",
            "\n",
            "[%] Downloading Image #13 from http://petsfoto.com/wp-content/uploads/2011/01/Flying-Fish10.jpg\n",
            "[!] Issue getting: http://petsfoto.com/wp-content/uploads/2011/01/Flying-Fish10.jpg\n",
            "[!] Error:: <urlopen error [SSL: SSLV3_ALERT_HANDSHAKE_FAILURE] sslv3 alert handshake failure (_ssl.c:1091)>\n",
            "[%] Downloading Image #13 from http://endeavors.unc.edu/sites/default/files/imagecache/display/photos/barreleye_fish_web.jpg\n",
            "[%] File Downloaded !\n",
            "\n",
            "[%] Downloading Image #14 from http://1.bp.blogspot.com/_TW8BkUtAfLU/TFeAr_bwl-I/AAAAAAAAAAM/S1eNNs6Uxyk/s1600/lantern+fish.jpg\n",
            "[%] File Downloaded !\n",
            "\n",
            "[%] Downloading Image #15 from http://www.inkdancechinesepaintings.com/koi-fish/picture/2319024.jpg\n",
            "[%] File Downloaded !\n",
            "\n",
            "[%] Downloading Image #16 from http://i1.ytimg.com/vi/yrgU-3AWP3A/maxresdefault.jpg\n",
            "[%] File Downloaded !\n",
            "\n",
            "[%] Downloading Image #17 from http://fishthesurf.homestead.com/OPALEYE_PERCH_10_08.jpg\n",
            "[%] File Downloaded !\n",
            "\n",
            "[%] Downloading Image #18 from http://www.thestar.com/content/dam/thestar/news/canada/2012/11/14/frankenfish_undercover_sting_lands_markham_snakehead_fish_dealer_in_jail/northernsnakehead.jpeg\n",
            "[%] File Downloaded !\n",
            "\n",
            "\n",
            "\n",
            "[!!]Indexing page: 3\n",
            "\n",
            "[%] Indexed 8 Images on Page 3.\n",
            "\n",
            "===============================================\n",
            "\n",
            "[%] Downloading Image #19 from http://1.bp.blogspot.com/_AOGK87WAhlk/S7qdjy-lUyI/AAAAAAAAJW4/XRbRkH3H7hA/s1600/twins-1-colorful-fish.jpg\n",
            "[%] File Downloaded !\n",
            "\n",
            "[%] Downloading Image #20 from http://1.bp.blogspot.com/-q1V8gubO7qg/UoBJ4fsR6cI/AAAAAAAADW8/yBrYJxwx6no/s1600/Mandarinfish-fishshare.blogspot-ikan+hias+(57).jpg\n",
            "[%] File Downloaded !\n",
            "\n",
            "[%] Downloading Image #21 from http://www.aboutfishonline.com/images/monodactylus.jpg\n",
            "[%] File Downloaded !\n",
            "\n",
            "[%] Downloading Image #22 from http://images2.fanpop.com/images/photos/5400000/Clown-Fish-fish-5412716-800-600.jpg\n",
            "[%] File Downloaded !\n",
            "\n",
            "[%] Downloading Image #23 from http://1.bp.blogspot.com/-tG7mh_ssqNE/TvQzP1od_rI/AAAAAAAAAMU/N26bSGoIMUk/s1600/tattoos_fish_koi.jpg\n",
            "[%] File Downloaded !\n",
            "\n",
            "[%] Downloading Image #24 from http://photos.costume-works.com/full/rainbow_fish.jpg\n",
            "[%] File Downloaded !\n",
            "\n",
            "[%] Downloading Image #25 from http://nippyfish.net/icecream/wp-content/uploads/2011/03/flex.jpg\n",
            "[%] File Downloaded !\n",
            "\n",
            "[%] Downloading Image #26 from http://i1.ytimg.com/vi/uaxiuanIy9E/maxresdefault.jpg\n",
            "[%] File Downloaded !\n",
            "\n",
            "\n",
            "\n",
            "[!!]Indexing page: 4\n",
            "\n",
            "[%] Indexed 8 Images on Page 4.\n",
            "\n",
            "===============================================\n",
            "\n",
            "[%] Downloading Image #27 from https://i.pinimg.com/736x/a3/03/6b/a3036ba79333ac263b36027171359887--peace-lily-rearrange.jpg\n",
            "[%] File Downloaded !\n",
            "\n",
            "[%] Downloading Image #28 from https://dlgdxii3fgupk.cloudfront.net/myaquariumclub.com/images/fbfiles/images/image-9193c28dabd5631256a4369ed599c326_v_1440030607.jpg\n",
            "[%] File Downloaded !\n",
            "\n",
            "[%] Downloading Image #29 from https://image.zmenu.com/menupic/4399713/s_4a0009f6-bda5-4d75-b645-39d9c2034b64.jpg\n",
            "[%] File Downloaded !\n",
            "\n",
            "[%] Downloading Image #30 from https://dlgdxii3fgupk.cloudfront.net/myaquariumclub.com/images/fbfiles/images/DSCF2822_v_1401703503.JPG\n",
            "[%] File Downloaded !\n",
            "\n",
            "\n",
            "\n",
            "[%] Done. Downloaded 30 images.\n",
            "\n",
            "===============================================\n",
            "\n"
          ],
          "name": "stdout"
        }
      ]
    },
    {
      "cell_type": "code",
      "metadata": {
        "colab": {
          "base_uri": "https://localhost:8080/"
        },
        "id": "DcsbpFNjuhM0",
        "outputId": "d1948c70-095f-42b8-d4ac-f963a8164c55"
      },
      "source": [
        "downloader.download(\"Frog\",limit=30,output_dir='images',adult_filter_off=True)\n"
      ],
      "execution_count": null,
      "outputs": [
        {
          "output_type": "stream",
          "text": [
            "\n",
            "\n",
            "[!!]Indexing page: 1\n",
            "\n",
            "[%] Indexed 11 Images on Page 1.\n",
            "\n",
            "===============================================\n",
            "\n",
            "[%] Downloading Image #1 from https://www.gratistodo.com/wp-content/uploads/2017/01/Ranas-Wallpapers-12-800x450.jpg\n",
            "[%] File Downloaded !\n",
            "\n",
            "[%] Downloading Image #2 from http://winners.virtualclassroom.org/0924/egyptmedia/apis.jpg\n",
            "[%] File Downloaded !\n",
            "\n",
            "[%] Downloading Image #3 from http://1.bp.blogspot.com/-29t3md_DWQ8/TfgkfSmBhtI/AAAAAAAAfy4/sZl2l7dQcxc/s1600/frog-tattoo-6.jpg\n",
            "[%] File Downloaded !\n",
            "\n",
            "[%] Downloading Image #4 from https://www.hdwallpapers.in/download/black_and_white_cow_print_12_hd_cow_print-1280x720.jpg\n",
            "[%] File Downloaded !\n",
            "\n",
            "[%] Downloading Image #5 from http://gardeningviral.com/wp-content/uploads/2017/01/Frog-Clay-Pot-.jpg\n",
            "[%] File Downloaded !\n",
            "\n",
            "[%] Downloading Image #6 from https://digitalsynopsis.com/wp-content/uploads/2016/06/13-animal-logos-perfect-circles-dorota-pankowska-walrus.gif\n",
            "[%] File Downloaded !\n",
            "\n",
            "[%] Downloading Image #7 from https://www.bing.com/th/id/OGC.953862020098cb012377008aa68c75fb?pid=1.7&amp;rurl=https%3a%2f%2fdigitalsynopsis.com%2fwp-content%2fuploads%2f2016%2f06%2f13-animal-logos-perfect-circles-dorota-pankowska-walrus.gif&amp;ehk=MnSFJ8mx%2bLL%2bMjPrkFIhycOuhMMZypMF%2fJVO9h53OOE%3d\n",
            "[!] Issue getting: https://www.bing.com/th/id/OGC.953862020098cb012377008aa68c75fb?pid=1.7&amp;rurl=https%3a%2f%2fdigitalsynopsis.com%2fwp-content%2fuploads%2f2016%2f06%2f13-animal-logos-perfect-circles-dorota-pankowska-walrus.gif&amp;ehk=MnSFJ8mx%2bLL%2bMjPrkFIhycOuhMMZypMF%2fJVO9h53OOE%3d\n",
            "[!] Error:: HTTP Error 404: Not Found\n",
            "[%] Downloading Image #7 from https://www.projectparties.com/uploaded_files/269/Congaline52copy.jpg\n",
            "[%] File Downloaded !\n",
            "\n",
            "[%] Downloading Image #8 from https://wallpapershome.com/images/wallpapers/flowers-1920x1080-4k-hd-wallpaper-green-grass-nature-5189.jpg\n",
            "[%] File Downloaded !\n",
            "\n",
            "[%] Downloading Image #9 from https://digitalsynopsis.com/wp-content/uploads/2017/07/funny-graphic-design-memes-14.jpg\n",
            "[%] File Downloaded !\n",
            "\n",
            "[%] Downloading Image #10 from https://www.treefrogtreasures.com/images/Product/medium/USMCPoster-4-C.jpg\n",
            "[%] File Downloaded !\n",
            "\n",
            "\n",
            "\n",
            "[!!]Indexing page: 2\n",
            "\n",
            "[%] Indexed 11 Images on Page 2.\n",
            "\n",
            "===============================================\n",
            "\n",
            "[%] Downloading Image #11 from https://www.gratistodo.com/wp-content/uploads/2017/01/Ranas-Wallpapers-12-800x450.jpg\n",
            "[%] File Downloaded !\n",
            "\n",
            "[%] Downloading Image #12 from http://winners.virtualclassroom.org/0924/egyptmedia/apis.jpg\n",
            "[%] File Downloaded !\n",
            "\n",
            "[%] Downloading Image #13 from http://1.bp.blogspot.com/-29t3md_DWQ8/TfgkfSmBhtI/AAAAAAAAfy4/sZl2l7dQcxc/s1600/frog-tattoo-6.jpg\n",
            "[%] File Downloaded !\n",
            "\n",
            "[%] Downloading Image #14 from https://www.hdwallpapers.in/download/black_and_white_cow_print_12_hd_cow_print-1280x720.jpg\n",
            "[%] File Downloaded !\n",
            "\n",
            "[%] Downloading Image #15 from http://gardeningviral.com/wp-content/uploads/2017/01/Frog-Clay-Pot-.jpg\n",
            "[%] File Downloaded !\n",
            "\n",
            "[%] Downloading Image #16 from https://digitalsynopsis.com/wp-content/uploads/2016/06/13-animal-logos-perfect-circles-dorota-pankowska-walrus.gif\n",
            "[%] File Downloaded !\n",
            "\n",
            "[%] Downloading Image #17 from https://www.bing.com/th/id/OGC.953862020098cb012377008aa68c75fb?pid=1.7&amp;rurl=https%3a%2f%2fdigitalsynopsis.com%2fwp-content%2fuploads%2f2016%2f06%2f13-animal-logos-perfect-circles-dorota-pankowska-walrus.gif&amp;ehk=MnSFJ8mx%2bLL%2bMjPrkFIhycOuhMMZypMF%2fJVO9h53OOE%3d\n",
            "[!] Issue getting: https://www.bing.com/th/id/OGC.953862020098cb012377008aa68c75fb?pid=1.7&amp;rurl=https%3a%2f%2fdigitalsynopsis.com%2fwp-content%2fuploads%2f2016%2f06%2f13-animal-logos-perfect-circles-dorota-pankowska-walrus.gif&amp;ehk=MnSFJ8mx%2bLL%2bMjPrkFIhycOuhMMZypMF%2fJVO9h53OOE%3d\n",
            "[!] Error:: HTTP Error 404: Not Found\n",
            "[%] Downloading Image #17 from https://www.projectparties.com/uploaded_files/269/Congaline52copy.jpg\n",
            "[%] File Downloaded !\n",
            "\n",
            "[%] Downloading Image #18 from https://wallpapershome.com/images/wallpapers/flowers-1920x1080-4k-hd-wallpaper-green-grass-nature-5189.jpg\n",
            "[%] File Downloaded !\n",
            "\n",
            "[%] Downloading Image #19 from https://digitalsynopsis.com/wp-content/uploads/2017/07/funny-graphic-design-memes-14.jpg\n",
            "[%] File Downloaded !\n",
            "\n",
            "[%] Downloading Image #20 from https://www.treefrogtreasures.com/images/Product/medium/USMCPoster-4-C.jpg\n",
            "[%] File Downloaded !\n",
            "\n",
            "\n",
            "\n",
            "[!!]Indexing page: 3\n",
            "\n",
            "[%] Indexed 7 Images on Page 3.\n",
            "\n",
            "===============================================\n",
            "\n",
            "[%] Downloading Image #21 from https://www.gratispcgames.net/gallery/zumas-revenge/ZumasRevenge-2015-07-15-23-30-45-01.jpg\n",
            "[%] File Downloaded !\n",
            "\n",
            "[%] Downloading Image #22 from http://www.movienewz.com/img/posters/wreck-it-ralph/wreck_it_ralph_movie_character_poster_1.jpg\n",
            "[%] File Downloaded !\n",
            "\n",
            "[%] Downloading Image #23 from https://ruinmyweek.com/wp-content/uploads/2016/06/the-best-funny-pictures-of-Kermit-frog-face-muppet.jpg\n",
            "[%] File Downloaded !\n",
            "\n",
            "[%] Downloading Image #24 from https://www.memesmonkey.com/images/memesmonkey/06/0630abf64f8de7093b07919759836fc1.jpeg\n",
            "[%] File Downloaded !\n",
            "\n",
            "[%] Downloading Image #25 from https://www.notrecinema.com/images/filmsi/la-princesse-et-la-grenouille_266008_29247.jpg\n",
            "[%] File Downloaded !\n",
            "\n",
            "[%] Downloading Image #26 from https://www.hdwallpapers.in/download/short_coated_black_rottweiler_hd-1920x1080.jpg\n",
            "[%] File Downloaded !\n",
            "\n",
            "[%] Downloading Image #27 from https://thumbs.dreamstime.com/x/chestnut-horse-head-shot-15572500.jpg\n",
            "[%] File Downloaded !\n",
            "\n",
            "\n",
            "\n",
            "[!!]Indexing page: 4\n",
            "\n",
            "[%] Indexed 9 Images on Page 4.\n",
            "\n",
            "===============================================\n",
            "\n",
            "[%] Downloading Image #28 from http://gardeningviral.com/wp-content/uploads/2017/01/Frog-Clay-Pot-.jpg\n",
            "[%] File Downloaded !\n",
            "\n",
            "[%] Downloading Image #29 from https://www.hdwallpapers.in/download/black_and_white_cow_print_12_hd_cow_print-1280x720.jpg\n",
            "[%] File Downloaded !\n",
            "\n",
            "[%] Downloading Image #30 from https://www.projectparties.com/uploaded_files/269/Congaline52copy.jpg\n",
            "[%] File Downloaded !\n",
            "\n",
            "\n",
            "\n",
            "[%] Done. Downloaded 30 images.\n",
            "\n",
            "===============================================\n",
            "\n"
          ],
          "name": "stdout"
        }
      ]
    },
    {
      "cell_type": "code",
      "metadata": {
        "colab": {
          "base_uri": "https://localhost:8080/"
        },
        "id": "MG_dygyYwEiy",
        "outputId": "412e1e69-8d7b-4f90-f7da-8c8723a1c68b"
      },
      "source": [
        "downloader.download(\"Dog\",limit=30,output_dir='images',adult_filter_off=True)\n"
      ],
      "execution_count": null,
      "outputs": [
        {
          "output_type": "stream",
          "text": [
            "\n",
            "\n",
            "[!!]Indexing page: 1\n",
            "\n",
            "[%] Indexed 10 Images on Page 1.\n",
            "\n",
            "===============================================\n",
            "\n",
            "[%] Downloading Image #1 from http://www.westveerfarms.com/bellatrix/myphotos/JJW05329.jpg\n",
            "[%] File Downloaded !\n",
            "\n",
            "[%] Downloading Image #2 from http://marvellegends.net/Movies/Hulk01/HulkDog02.jpg\n",
            "[%] File Downloaded !\n",
            "\n",
            "[%] Downloading Image #3 from http://i1.ytimg.com/vi/P3u6fa0-YZM/maxresdefault.jpg\n",
            "[%] File Downloaded !\n",
            "\n",
            "[%] Downloading Image #4 from http://i1.ytimg.com/vi/Ig-koEa9jXw/maxresdefault.jpg\n",
            "[%] File Downloaded !\n",
            "\n",
            "[%] Downloading Image #5 from http://canaandog.homestead.com/Snir_Canaan_dog_puppy_18082013D__5_.jpeg.jpg\n",
            "[%] File Downloaded !\n",
            "\n",
            "[%] Downloading Image #6 from http://www.itchmo.com/wp-content/uploads/2007/07/skunk-dog-bowl1.jpg\n",
            "[%] File Downloaded !\n",
            "\n",
            "[%] Downloading Image #7 from http://www.sinoorigin.com/images/animals/dogandcat/large/dog-painting-05.jpg\n",
            "[%] File Downloaded !\n",
            "\n",
            "[%] Downloading Image #8 from http://thecia.com.au/reviews/r/images/red-dog-2.jpg\n",
            "[%] File Downloaded !\n",
            "\n",
            "[%] Downloading Image #9 from http://projectumbrella.net/files/imagecache/preview/images/re3zombiedog.jpg\n",
            "[%] File Downloaded !\n",
            "\n",
            "[%] Downloading Image #10 from http://farm5.staticflickr.com/4140/4744126406_12b9db749c_z.jpg\n",
            "[Error]Invalid image, not saving http://farm5.staticflickr.com/4140/4744126406_12b9db749c_z.jpg\n",
            "\n",
            "[!] Issue getting: http://farm5.staticflickr.com/4140/4744126406_12b9db749c_z.jpg\n",
            "[!] Error:: No active exception to reraise\n",
            "\n",
            "\n",
            "[!!]Indexing page: 2\n",
            "\n",
            "[%] Indexed 10 Images on Page 2.\n",
            "\n",
            "===============================================\n",
            "\n",
            "[%] Downloading Image #10 from http://www.westveerfarms.com/bellatrix/myphotos/JJW05329.jpg\n",
            "[%] File Downloaded !\n",
            "\n",
            "[%] Downloading Image #11 from http://marvellegends.net/Movies/Hulk01/HulkDog02.jpg\n",
            "[%] File Downloaded !\n",
            "\n",
            "[%] Downloading Image #12 from http://i1.ytimg.com/vi/P3u6fa0-YZM/maxresdefault.jpg\n",
            "[%] File Downloaded !\n",
            "\n",
            "[%] Downloading Image #13 from http://i1.ytimg.com/vi/Ig-koEa9jXw/maxresdefault.jpg\n",
            "[%] File Downloaded !\n",
            "\n",
            "[%] Downloading Image #14 from http://canaandog.homestead.com/Snir_Canaan_dog_puppy_18082013D__5_.jpeg.jpg\n",
            "[%] File Downloaded !\n",
            "\n",
            "[%] Downloading Image #15 from http://www.itchmo.com/wp-content/uploads/2007/07/skunk-dog-bowl1.jpg\n",
            "[%] File Downloaded !\n",
            "\n",
            "[%] Downloading Image #16 from http://www.sinoorigin.com/images/animals/dogandcat/large/dog-painting-05.jpg\n",
            "[%] File Downloaded !\n",
            "\n",
            "[%] Downloading Image #17 from http://thecia.com.au/reviews/r/images/red-dog-2.jpg\n",
            "[%] File Downloaded !\n",
            "\n",
            "[%] Downloading Image #18 from http://projectumbrella.net/files/imagecache/preview/images/re3zombiedog.jpg\n",
            "[%] File Downloaded !\n",
            "\n",
            "[%] Downloading Image #19 from http://farm5.staticflickr.com/4140/4744126406_12b9db749c_z.jpg\n",
            "[Error]Invalid image, not saving http://farm5.staticflickr.com/4140/4744126406_12b9db749c_z.jpg\n",
            "\n",
            "[!] Issue getting: http://farm5.staticflickr.com/4140/4744126406_12b9db749c_z.jpg\n",
            "[!] Error:: No active exception to reraise\n",
            "\n",
            "\n",
            "[!!]Indexing page: 3\n",
            "\n",
            "[%] Indexed 9 Images on Page 3.\n",
            "\n",
            "===============================================\n",
            "\n",
            "[%] Downloading Image #19 from https://www.recreoviral.com/wp-content/uploads/2016/03/PERROS-EXPRESIONES-DE-PREGUNTA-6.jpg\n",
            "[%] File Downloaded !\n",
            "\n",
            "[%] Downloading Image #20 from https://cdn.designrulz.com/wp-content/uploads/2012/05/designrulz-0100.jpg\n",
            "[%] File Downloaded !\n",
            "\n",
            "[%] Downloading Image #21 from https://www.rocketdogrescue.org/wp-content/uploads/2017/10/Teacup-e1507409417653.jpg\n",
            "[%] File Downloaded !\n",
            "\n",
            "[%] Downloading Image #22 from https://wallpapershome.com/images/wallpapers/berger-blanc-suisse-1440x2560-dog-white-4k-19461.jpg\n",
            "[%] File Downloaded !\n",
            "\n",
            "[%] Downloading Image #23 from https://buzzsharer.com/wp-content/uploads/2015/07/cute-playful-dog.jpg\n",
            "[%] File Downloaded !\n",
            "\n",
            "[%] Downloading Image #24 from https://www.candogseat-this.com/wp-content/uploads/2014/11/thanksgiving-dog-hat.jpeg\n",
            "[%] File Downloaded !\n",
            "\n",
            "[%] Downloading Image #25 from https://wallpapershome.com/images/wallpapers/husky-1440x2560-dog-cute-animals-funny-4493.jpg\n",
            "[%] File Downloaded !\n",
            "\n",
            "[%] Downloading Image #26 from http://www.newslinq.com/wp-content/uploads/2015/03/DogShaming18.jpg\n",
            "[%] File Downloaded !\n",
            "\n",
            "[%] Downloading Image #27 from https://images.wagwalkingweb.com/media/breed/anatolian-pyrenees/hero/Anatolian-Pyrenees5.jpg\n",
            "[%] File Downloaded !\n",
            "\n",
            "\n",
            "\n",
            "[!!]Indexing page: 4\n",
            "\n",
            "[%] Indexed 8 Images on Page 4.\n",
            "\n",
            "===============================================\n",
            "\n",
            "[%] Downloading Image #28 from http://i1.ytimg.com/vi/P3u6fa0-YZM/maxresdefault.jpg\n",
            "[%] File Downloaded !\n",
            "\n",
            "[%] Downloading Image #29 from http://i1.ytimg.com/vi/Ig-koEa9jXw/maxresdefault.jpg\n",
            "[%] File Downloaded !\n",
            "\n",
            "[%] Downloading Image #30 from http://canaandog.homestead.com/Snir_Canaan_dog_puppy_18082013D__5_.jpeg.jpg\n",
            "[%] File Downloaded !\n",
            "\n",
            "\n",
            "\n",
            "[%] Done. Downloaded 30 images.\n",
            "\n",
            "===============================================\n",
            "\n"
          ],
          "name": "stdout"
        }
      ]
    },
    {
      "cell_type": "code",
      "metadata": {
        "id": "BMCGKmN0yH-G"
      },
      "source": [
        "#preprocessing\n",
        "\n",
        "import os\n",
        "import matplotlib.pyplot as plt\n",
        "import numpy as np\n",
        "from skimage.io import imread\n",
        "from skimage.transform import resize\n",
        "\n",
        "target = []\n",
        "images = []\n",
        "flat_data = []\n",
        "\n",
        "DATADIR = '/content/images'\n",
        "CATEGORIES = ['Dog','Fish','Frog']\n",
        "\n",
        "for category in CATEGORIES:\n",
        "  class_num = CATEGORIES.index(category)     # Label Encoding the values\n",
        "  path = os.path.join(DATADIR,category)      #path creating\n",
        "  for img in os.listdir(path):\n",
        "    img_array = imread(os.path.join(path,img))\n",
        "    #print(img_array.shape)\n",
        "    #plt.imshow(img_array)\n",
        "    img_resized = resize(img_array,(150,150,3))\n",
        "    flat_data.append(img_resized.flatten())\n",
        "    images.append(img_resized)\n",
        "    target.append(class_num)\n",
        "\n",
        "flat_data = np.array(flat_data)\n",
        "target = np.array(target)\n",
        "images = np.array(images)"
      ],
      "execution_count": null,
      "outputs": []
    },
    {
      "cell_type": "code",
      "metadata": {
        "colab": {
          "base_uri": "https://localhost:8080/"
        },
        "id": "dx7h-rUP8UqF",
        "outputId": "190f50a2-bc9e-4189-f844-464661944970"
      },
      "source": [
        "flat_data[0]"
      ],
      "execution_count": null,
      "outputs": [
        {
          "output_type": "execute_result",
          "data": {
            "text/plain": [
              "array([1., 1., 1., ..., 1., 1., 1.])"
            ]
          },
          "metadata": {
            "tags": []
          },
          "execution_count": 115
        }
      ]
    },
    {
      "cell_type": "code",
      "metadata": {
        "colab": {
          "base_uri": "https://localhost:8080/"
        },
        "id": "_HLLtHPkBJiM",
        "outputId": "75220621-d470-4063-b0a6-eeec926eaf24"
      },
      "source": [
        "target"
      ],
      "execution_count": null,
      "outputs": [
        {
          "output_type": "execute_result",
          "data": {
            "text/plain": [
              "array([0, 0, 0, 0, 0, 0, 0, 0, 0, 0, 0, 0, 0, 0, 0, 0, 0, 0, 0, 0, 0, 0,\n",
              "       0, 0, 0, 0, 0, 0, 0, 0, 0, 1, 1, 1, 1, 1, 1, 1, 1, 1, 1, 1, 1, 1,\n",
              "       1, 1, 1, 1, 1, 1, 1, 1, 1, 1, 1, 1, 1, 1, 1, 1, 1, 1, 1, 1, 1, 1,\n",
              "       1, 1, 1, 1, 1, 1, 2, 2, 2, 2, 2, 2, 2, 2, 2, 2, 2, 2, 2, 2, 2, 2,\n",
              "       2, 2, 2, 2, 2, 2, 2, 2, 2, 2, 2, 2, 2, 2, 2, 2, 2, 2, 2, 2, 2, 2])"
            ]
          },
          "metadata": {
            "tags": []
          },
          "execution_count": 116
        }
      ]
    },
    {
      "cell_type": "code",
      "metadata": {
        "id": "AJdkfMaxBUEK"
      },
      "source": [
        "# Split data into Training and Testing\n",
        "from sklearn.model_selection import train_test_split\n",
        "x_train,x_test,y_train,y_test = train_test_split(flat_data,target,test_size=0.3,random_state=109)"
      ],
      "execution_count": null,
      "outputs": []
    },
    {
      "cell_type": "code",
      "metadata": {
        "colab": {
          "base_uri": "https://localhost:8080/"
        },
        "id": "E7ShSyGZCWpJ",
        "outputId": "f0183363-225c-4f0d-850c-b6637d90f2d3"
      },
      "source": [
        "from sklearn.model_selection import GridSearchCV\n",
        "from sklearn import svm\n",
        "param_grid = [\n",
        "              {'C':[1,10,100,1000],'kernel':['linear']},\n",
        "              {'C':[1,10,100,1000],'gamma':[0.001,0.0001],'kernel':['rbf']},\n",
        "]\n",
        "\n",
        "svc = svm.SVC(probability=True)\n",
        "clf = GridSearchCV(svc,param_grid)\n",
        "clf.fit(x_train,y_train)"
      ],
      "execution_count": null,
      "outputs": [
        {
          "output_type": "execute_result",
          "data": {
            "text/plain": [
              "GridSearchCV(cv=None, error_score=nan,\n",
              "             estimator=SVC(C=1.0, break_ties=False, cache_size=200,\n",
              "                           class_weight=None, coef0=0.0,\n",
              "                           decision_function_shape='ovr', degree=3,\n",
              "                           gamma='scale', kernel='rbf', max_iter=-1,\n",
              "                           probability=True, random_state=None, shrinking=True,\n",
              "                           tol=0.001, verbose=False),\n",
              "             iid='deprecated', n_jobs=None,\n",
              "             param_grid=[{'C': [1, 10, 100, 1000], 'kernel': ['linear']},\n",
              "                         {'C': [1, 10, 100, 1000], 'gamma': [0.001, 0.0001],\n",
              "                          'kernel': ['rbf']}],\n",
              "             pre_dispatch='2*n_jobs', refit=True, return_train_score=False,\n",
              "             scoring=None, verbose=0)"
            ]
          },
          "metadata": {
            "tags": []
          },
          "execution_count": 118
        }
      ]
    },
    {
      "cell_type": "code",
      "metadata": {
        "colab": {
          "base_uri": "https://localhost:8080/"
        },
        "id": "Wb5Tmec6cAob",
        "outputId": "3950866d-40e7-4693-9952-310e3ce1023d"
      },
      "source": [
        "y_pred = clf.predict(x_test)\n",
        "y_pred"
      ],
      "execution_count": null,
      "outputs": [
        {
          "output_type": "execute_result",
          "data": {
            "text/plain": [
              "array([1, 2, 0, 1, 0, 2, 2, 1, 1, 0, 0, 2, 0, 1, 2, 2, 0, 1, 2, 0, 2, 0,\n",
              "       2, 1, 1, 1, 0, 1, 1, 0, 0, 2, 0])"
            ]
          },
          "metadata": {
            "tags": []
          },
          "execution_count": 119
        }
      ]
    },
    {
      "cell_type": "code",
      "metadata": {
        "colab": {
          "base_uri": "https://localhost:8080/"
        },
        "id": "zKGhwDh5fkaH",
        "outputId": "99b723a3-4112-4ad6-d268-e54c55899716"
      },
      "source": [
        "y_test"
      ],
      "execution_count": null,
      "outputs": [
        {
          "output_type": "execute_result",
          "data": {
            "text/plain": [
              "array([1, 2, 0, 2, 0, 2, 1, 1, 1, 2, 0, 2, 0, 2, 2, 2, 1, 2, 2, 0, 2, 0,\n",
              "       2, 1, 1, 2, 1, 1, 2, 0, 0, 2, 0])"
            ]
          },
          "metadata": {
            "tags": []
          },
          "execution_count": 120
        }
      ]
    },
    {
      "cell_type": "code",
      "metadata": {
        "id": "uA9SyLu5fqTf"
      },
      "source": [
        "from sklearn.metrics import accuracy_score,confusion_matrix"
      ],
      "execution_count": null,
      "outputs": []
    },
    {
      "cell_type": "code",
      "metadata": {
        "colab": {
          "base_uri": "https://localhost:8080/"
        },
        "id": "zNWqxw6bgGGz",
        "outputId": "5b440552-73d0-465a-c3fa-37f4fd88001f"
      },
      "source": [
        "accuracy_score(y_pred,y_test)"
      ],
      "execution_count": null,
      "outputs": [
        {
          "output_type": "execute_result",
          "data": {
            "text/plain": [
              "0.7272727272727273"
            ]
          },
          "metadata": {
            "tags": []
          },
          "execution_count": 122
        }
      ]
    },
    {
      "cell_type": "code",
      "metadata": {
        "colab": {
          "base_uri": "https://localhost:8080/"
        },
        "id": "q7mMRptzgTuS",
        "outputId": "babbe52b-aed2-42b6-9d44-3b997de65532"
      },
      "source": [
        "confusion_matrix(y_pred,y_test)"
      ],
      "execution_count": null,
      "outputs": [
        {
          "output_type": "execute_result",
          "data": {
            "text/plain": [
              "array([[9, 2, 1],\n",
              "       [0, 6, 5],\n",
              "       [0, 1, 9]])"
            ]
          },
          "metadata": {
            "tags": []
          },
          "execution_count": 123
        }
      ]
    },
    {
      "cell_type": "code",
      "metadata": {
        "id": "tdxJyAS0geE0"
      },
      "source": [
        "import pickle\n",
        "pickle.dump(clf,open('img_model.p','wb'))"
      ],
      "execution_count": null,
      "outputs": []
    },
    {
      "cell_type": "code",
      "metadata": {
        "id": "9f6WBKxPg7xr"
      },
      "source": [
        "model = pickle.load(open('img_model.p','rb'))"
      ],
      "execution_count": null,
      "outputs": []
    },
    {
      "cell_type": "code",
      "metadata": {
        "colab": {
          "base_uri": "https://localhost:8080/",
          "height": 321
        },
        "id": "l4Uv4j2bhX2b",
        "outputId": "aee832c7-adb5-4655-809c-abf791271939"
      },
      "source": [
        "flat_data = []\n",
        "url = input('Enter your URL')\n",
        "img = imread(url)\n",
        "img_resized = resize(img,(150,150,3))\n",
        "flat_data.append(img_resized.flatten())\n",
        "flat_data = np.array(flat_data)\n",
        "print(img.shape)\n",
        "plt.imshow(img_resized)\n",
        "y_out = model.predict(flat_data)\n",
        "y_out = CATEGORIES[y_out[0]]\n",
        "print(f'PREDICTED OUTPUT:{y_out}')"
      ],
      "execution_count": null,
      "outputs": [
        {
          "output_type": "stream",
          "text": [
            "Enter your URLhttps://post.medicalnewstoday.com/wp-content/uploads/sites/3/2020/02/322868_1100-1100x628.jpg\n",
            "(628, 1100, 3)\n",
            "PREDICTED OUTPUT:Dog\n"
          ],
          "name": "stdout"
        },
        {
          "output_type": "display_data",
          "data": {
            "image/png": "[encoded data removed]",
            "text/plain": [
              "<Figure size 432x288 with 1 Axes>"
            ]
          },
          "metadata": {
            "tags": [],
            "needs_background": "light"
          }
        }
      ]
    },
    {
      "cell_type": "code",
      "metadata": {
        "id": "xf7uUyChsqLD"
      },
      "source": [
        "!pip install streamlit --quiet\n",
        "!pip install pyngrok==4.1.1 --quiet\n",
        "from pyngrok import ngrok"
      ],
      "execution_count": null,
      "outputs": []
    },
    {
      "cell_type": "code",
      "metadata": {
        "colab": {
          "base_uri": "https://localhost:8080/"
        },
        "id": "FZ7DNwh4mV_9",
        "outputId": "f0c2d19f-7d3c-4bb2-d9fb-1193fad7afc1"
      },
      "source": [
        "%%writefile app.py\n",
        "import streamlit as st\n",
        "import numpy as np\n",
        "from skimage.io import imread\n",
        "from skimage.transform import resize\n",
        "import pickle\n",
        "from PIL import Image\n",
        "st.title('Image Classifier using Machine Learning')\n",
        "st.text('upload the image')\n",
        "model = pickle.load(open('img_model.p','rb'))\n",
        "\n",
        "uploaded file =st.file_uploader(\"Choose an image...\",type=\"jpg\")\n",
        "if uploaded_file is not None:\n",
        "  img = Image.open(uploaded_file)\n",
        "  st.image(img,caption='Uploaded Image')\n",
        "\n",
        "if st.button('PREDICT'):\n",
        "  CATEGORIES = ['Dog','Fish','Frog']\n",
        "  st.write('Result..')\n",
        "  flat_data=[]\n",
        "  img = np.array(img)\n",
        "  img_resized = resize(img,(150,150,3))\n",
        "  flat_data.append(img_resized.flatten())\n",
        "  flat_data = np.array(flat_data)\n",
        "  y_out = model.predict(flat_data)\n",
        "  y_out = CATEGORIES[y_out[0]]\n",
        "  st.title(f'PREDICTED OUTPUT:{y_out}')"
      ],
      "execution_count": null,
      "outputs": [
        {
          "output_type": "stream",
          "text": [
            "Overwriting app.py\n"
          ],
          "name": "stdout"
        }
      ]
    },
    {
      "cell_type": "code",
      "metadata": {
        "id": "mhSdKX3YtH9g"
      },
      "source": [
        "!nohup streamlit run app.py &\n",
        "url = ngrok.connect(port='8501')\n",
        "print(url)"
      ],
      "execution_count": null,
      "outputs": []
    }
  ]
}